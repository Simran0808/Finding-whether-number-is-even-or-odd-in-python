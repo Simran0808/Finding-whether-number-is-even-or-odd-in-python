{
  "nbformat": 4,
  "nbformat_minor": 0,
  "metadata": {
    "colab": {
      "name": "Untitled25.ipynb",
      "version": "0.3.2",
      "provenance": [],
      "include_colab_link": true
    },
    "kernelspec": {
      "name": "python3",
      "display_name": "Python 3"
    }
  },
  "cells": [
    {
      "cell_type": "markdown",
      "metadata": {
        "id": "view-in-github",
        "colab_type": "text"
      },
      "source": [
        "<a href=\"https://colab.research.google.com/github/tanukushwaha/Finding-whether-number-is-even-or-odd-in-python/blob/master/Untitled25.ipynb\" target=\"_parent\"><img src=\"https://colab.research.google.com/assets/colab-badge.svg\" alt=\"Open In Colab\"/></a>"
      ]
    },
    {
      "cell_type": "code",
      "metadata": {
        "id": "DmHkodTe4C7D",
        "colab_type": "code",
        "colab": {
          "base_uri": "https://localhost:8080/",
          "height": 51
        },
        "outputId": "7d8829d4-25f0-4981-a374-b0f255074bbd"
      },
      "source": [
        "#Take a number from user \n",
        "num=input(\"Enter number to whether entered number is even or odd: \")\n",
        "\n",
        "#converting the value from string to integer\n",
        "number=int(num)\n",
        "\n",
        "#checking whether number is even or odd\n",
        "#printing the result \n",
        "if((number%2)==0):\n",
        "    print(number,\"is even number\")\n",
        "else:\n",
        "    print(number,\"is odd number\")"
      ],
      "execution_count": 1,
      "outputs": [
        {
          "output_type": "stream",
          "text": [
            "Enter number to whether entered number is even or odd: 5\n",
            "5 is odd number\n"
          ],
          "name": "stdout"
        }
      ]
    }
  ]
}